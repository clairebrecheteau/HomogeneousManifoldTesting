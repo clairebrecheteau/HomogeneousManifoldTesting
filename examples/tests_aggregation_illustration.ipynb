{
 "cells": [
  {
   "cell_type": "markdown",
   "metadata": {},
   "source": [
    "# Tests aggregation illustration"
   ]
  },
  {
   "cell_type": "code",
   "execution_count": 1,
   "metadata": {},
   "outputs": [],
   "source": [
    "using HomogeneousManifoldTesting"
   ]
  },
  {
   "cell_type": "code",
   "execution_count": 2,
   "metadata": {},
   "outputs": [
    {
     "data": {
      "text/plain": [
       "1000"
      ]
     },
     "metadata": {},
     "output_type": "display_data"
    }
   ],
   "source": [
    "sample_size = 100\n",
    "proportion_nearest_neighbours = [i/10 for i in 1:10]\n",
    "monte_carlo_size = 1000\n",
    "vect_alpha =  [0.01, 0.05, 0.1];\n",
    "\n",
    "weights = [1/length(proportion_nearest_neighbours) for i in 1:length(proportion_nearest_neighbours)]\n",
    "monte_carlo_size_2 = 1000"
   ]
  },
  {
   "cell_type": "markdown",
   "metadata": {},
   "source": [
    "## 1) Circle"
   ]
  },
  {
   "cell_type": "code",
   "execution_count": 3,
   "metadata": {},
   "outputs": [
    {
     "name": "stdout",
     "output_type": "stream",
     "text": [
      "1"
     ]
    }
   ],
   "source": [
    "test_agreg_circle = Test_Homogeneity_Aggregated(sample_size, proportion_nearest_neighbours, weights, monte_carlo_size, monte_carlo_size_2,CircleData,vect_alpha);"
   ]
  },
  {
   "cell_type": "code",
   "execution_count": 4,
   "metadata": {},
   "outputs": [
    {
     "data": {
      "text/plain": [
       "CircleData{Float64}(100, [1.3403517889709453, 4.550768231196556, 3.9414060665053046, 3.2368175759975797, 6.02086256053893, 0.9904257220054452, 0.772750865375684, 3.4326346047037135, 6.02524389826174, 1.1366504007273728  …  6.282752201225784, 5.501461804781139, 3.38871781334018, 1.0507127491752675, 4.6518247653595015, 4.817812969283597, 0.5136178195186193, 1.1778985820003804, 2.7177334720966413, 1.4044024701970674])"
      ]
     },
     "metadata": {},
     "output_type": "display_data"
    }
   ],
   "source": [
    "sample_uniform = CircleData(sample_size,\"uniform\")"
   ]
  },
  {
   "cell_type": "code",
   "execution_count": 5,
   "metadata": {},
   "outputs": [
    {
     "data": {
      "text/plain": [
       "2-element Vector{Vector{Float64}}:\n",
       " [-0.025678799681607453, -0.018915623798752224, -0.015976690345740202]\n",
       " [0.1, 0.1, 0.1]"
      ]
     },
     "metadata": {},
     "output_type": "display_data"
    }
   ],
   "source": [
    "res_test_hom = apply_test(test_agreg_circle,sample_uniform,\"homogeneity\")"
   ]
  },
  {
   "cell_type": "markdown",
   "metadata": {},
   "source": [
    "Hypothesis $H_0$ is rejected at the level $\\alpha$ when the test statistic is positive."
   ]
  },
  {
   "cell_type": "code",
   "execution_count": 6,
   "metadata": {},
   "outputs": [
    {
     "name": "stdout",
     "output_type": "stream",
     "text": [
      "The test statistic for α = 0.01 is -0.025678799681607453. The parameter h selected is 0.1\n",
      "The test statistic for α = 0.05 is -0.018915623798752224. The parameter h selected is 0.1\n",
      "The test statistic for α = 0.1 is -0.015976690345740202. The parameter h selected is 0.1\n"
     ]
    }
   ],
   "source": [
    "for (idx,α) in enumerate(vect_alpha)\n",
    "    print(\"The test statistic for α = $α is $(res_test_hom[1][idx]). \")\n",
    "    print(\"The parameter h selected is $(res_test_hom[2][idx])\\n\")\n",
    "end"
   ]
  },
  {
   "cell_type": "code",
   "execution_count": 7,
   "metadata": {},
   "outputs": [
    {
     "data": {
      "text/plain": [
       "2-element Vector{Vector{Float64}}:\n",
       " [-0.02314665517380738, -0.01327410346342655, -0.010661036693815521]\n",
       " [0.1, 0.1, 0.1]"
      ]
     },
     "metadata": {},
     "output_type": "display_data"
    }
   ],
   "source": [
    "res_test_iid = apply_test(test_agreg_circle,sample_uniform,\"iidness\")"
   ]
  },
  {
   "cell_type": "markdown",
   "metadata": {},
   "source": [
    "## 2) Sphere"
   ]
  },
  {
   "cell_type": "code",
   "execution_count": 8,
   "metadata": {},
   "outputs": [
    {
     "name": "stdout",
     "output_type": "stream",
     "text": [
      "1"
     ]
    }
   ],
   "source": [
    "test_agreg_sphere = Test_Homogeneity_Aggregated(sample_size, proportion_nearest_neighbours, weights, monte_carlo_size, monte_carlo_size_2,SphereData,vect_alpha);"
   ]
  },
  {
   "cell_type": "code",
   "execution_count": 9,
   "metadata": {},
   "outputs": [
    {
     "data": {
      "text/plain": [
       "SphereData{Float64}(100, [0.6422260076224797 0.4351545376689829 … 0.0474562598313594 0.44855060033917676; -0.30817185216666265 -0.8849780794516556 … -0.767945552665083 0.41511111988100446; 0.7018374916356772 0.16569347372830676 … 0.6387546724249761 -0.7915081282504323])"
      ]
     },
     "metadata": {},
     "output_type": "display_data"
    }
   ],
   "source": [
    "sample_uniform = SphereData(sample_size,\"uniform\")"
   ]
  },
  {
   "cell_type": "code",
   "execution_count": 10,
   "metadata": {},
   "outputs": [
    {
     "data": {
      "text/plain": [
       "2-element Vector{Vector{Float64}}:\n",
       " [-0.03291968694380967, -0.020695427464649405, -0.0130692068768659]\n",
       " [0.1, 0.2, 0.2]"
      ]
     },
     "metadata": {},
     "output_type": "display_data"
    }
   ],
   "source": [
    "res_test_hom = apply_test(test_agreg_sphere,sample_uniform,\"homogeneity\")"
   ]
  },
  {
   "cell_type": "code",
   "execution_count": 11,
   "metadata": {},
   "outputs": [
    {
     "data": {
      "text/plain": [
       "2-element Vector{Vector{Float64}}:\n",
       " [-0.037211835547808075, -0.02503293055335301, -0.019979757433400122]\n",
       " [0.1, 0.1, 0.2]"
      ]
     },
     "metadata": {},
     "output_type": "display_data"
    }
   ],
   "source": [
    "res_test_iid = apply_test(test_agreg_sphere,sample_uniform,\"iidness\")"
   ]
  },
  {
   "cell_type": "markdown",
   "metadata": {},
   "source": [
    "## 3) Torus"
   ]
  },
  {
   "cell_type": "code",
   "execution_count": 12,
   "metadata": {},
   "outputs": [
    {
     "name": "stdout",
     "output_type": "stream",
     "text": [
      "1"
     ]
    }
   ],
   "source": [
    "test_agreg_torus = Test_Homogeneity_Aggregated(sample_size, proportion_nearest_neighbours, weights, monte_carlo_size, monte_carlo_size_2,TorusData,vect_alpha);"
   ]
  },
  {
   "cell_type": "code",
   "execution_count": 13,
   "metadata": {},
   "outputs": [
    {
     "data": {
      "text/plain": [
       "TorusData{Float64}(100, [0.19497932840058063 0.12079516224287512 … 0.5100013850411645 0.8952798410089546; 0.4646981866026455 0.4921540832269232 … 0.8136335565457742 0.45023757073205983])"
      ]
     },
     "metadata": {},
     "output_type": "display_data"
    }
   ],
   "source": [
    "sample_uniform = TorusData(sample_size,\"uniform\")"
   ]
  },
  {
   "cell_type": "code",
   "execution_count": 14,
   "metadata": {},
   "outputs": [
    {
     "data": {
      "text/plain": [
       "2-element Vector{Vector{Float64}}:\n",
       " [-0.007300896048824897, -0.004963918829851848, -0.0039093700326446115]\n",
       " [0.1, 0.1, 0.1]"
      ]
     },
     "metadata": {},
     "output_type": "display_data"
    }
   ],
   "source": [
    "res_test_hom = apply_test(test_agreg_torus,sample_uniform,\"homogeneity\")"
   ]
  },
  {
   "cell_type": "code",
   "execution_count": 15,
   "metadata": {},
   "outputs": [
    {
     "data": {
      "text/plain": [
       "2-element Vector{Vector{Float64}}:\n",
       " [-0.009742686857883924, -0.006284460400141743, -0.004950718175771581]\n",
       " [0.1, 0.1, 1.0]"
      ]
     },
     "metadata": {},
     "output_type": "display_data"
    }
   ],
   "source": [
    "res_test_iid = apply_test(test_agreg_torus,sample_uniform,\"iidness\")"
   ]
  },
  {
   "cell_type": "markdown",
   "metadata": {},
   "source": [
    "## 4) Grassmannian G(3,2)"
   ]
  },
  {
   "cell_type": "code",
   "execution_count": 26,
   "metadata": {},
   "outputs": [
    {
     "data": {
      "text/plain": [
       "10"
      ]
     },
     "metadata": {},
     "output_type": "display_data"
    }
   ],
   "source": [
    "monte_carlo_size = 10\n",
    "monte_carlo_size2 = 10"
   ]
  },
  {
   "cell_type": "code",
   "execution_count": 27,
   "metadata": {},
   "outputs": [
    {
     "name": "stdout",
     "output_type": "stream",
     "text": [
      "1"
     ]
    }
   ],
   "source": [
    "test_agreg_grassmann23 = Test_Homogeneity_Aggregated(sample_size, proportion_nearest_neighbours, weights, monte_carlo_size, monte_carlo_size_2,GrassmannData23,vect_alpha);"
   ]
  },
  {
   "cell_type": "code",
   "execution_count": 28,
   "metadata": {},
   "outputs": [
    {
     "data": {
      "text/plain": [
       "GrassmannData23{Matrix{Float64}}(100, [[-0.2867318111421131 -0.45844545064456765; 0.5642386731129736 -0.7904281011616263; -0.7742219244137141 -0.40626492055963376], [-0.35816184041129207 0.3658675551428646; -0.3554704878256322 -0.9041689319031465; -0.8633428220343312 0.220498241886204], [-0.9830163824297515 0.10489183007657858; -0.12390610490390021 -0.984642380086872; -0.13537381224693418 0.1395603357693232], [-0.7724635631330103 0.21572524932082293; -0.03785266978903816 -0.9545044466299331; 0.6339299795889884 0.20587345183183306], [-0.06633005997000985 0.9425877864872722; -0.9579150741671519 0.03165937253121942; -0.2792830711441613 -0.3324544313074416], [-0.4909509503245679 0.6600574796077933; -0.8692324163852708 -0.4148327930892597; 0.05832812940963336 -0.626288972752651], [-0.38930590276076815 -0.5781389113786329; 0.8264300330505093 0.1245471590389674; -0.4067607583675661 0.8063767136551323], [-0.8102112230224181 -0.07196859056934579; 0.5857283442685862 -0.13651044433637893; -0.021910746424951156 -0.988020961598764], [-0.7732303975842563 0.24869817260610894; -0.41288109276661145 -0.8956314136786969; -0.48129404264705145 0.36877308710680173], [-0.7135469550680951 -0.6800015219657508; 0.009544765574936205 -0.250157243886743; 0.7005423901258006 -0.6892164271513346]  …  [-0.7654005571033511 0.6434873028582726; -0.4071002394104642 -0.47296210055043386; 0.4984289139464348 0.6018562473739949], [-0.5956476545765661 0.6630232712811741; -0.7050172454735413 -0.7020455724667818; -0.3849085023513204 0.2598694978626764], [-0.6410866718302257 0.11126625338125795; -0.5445077539103047 -0.7632167265955836; -0.5408504276906873 0.6364904155627323], [-0.1685751353746623 0.21705394333011385; -0.7387200863161457 -0.6736348886570562; -0.6525910341143838 0.7064726622232761], [-0.72057830904055 -0.6929497046054036; 0.6764346587596213 -0.71022543082696; 0.1523254836493755 -0.12409892946332375], [-0.41504194355819357 0.6099774002030122; -0.8722647263923206 -0.4777076984263895; 0.258639579684099 -0.63223644794154], [-0.265645982494942 -0.6809786683970024; -0.3192648212444943 -0.6057734722608861; 0.9096714714115299 -0.4114687758423895], [-0.15939166230629587 0.22737190138772378; 0.9451747007151527 -0.24580672997538056; 0.2850247061488823 0.9422744132990885], [-0.2334138949277469 0.43149121074111585; -0.3480401184143095 -0.8738539257284799; -0.9079570637584204 0.22404162903819888], [-0.7560842824270495 -0.0717745999865664; 0.2219232552833397 -0.9631972706731196; -0.6157001109559906 -0.25903556621557144]])"
      ]
     },
     "metadata": {},
     "output_type": "display_data"
    }
   ],
   "source": [
    "sample_uniform = GrassmannData23(sample_size,\"uniform\")"
   ]
  },
  {
   "cell_type": "code",
   "execution_count": 29,
   "metadata": {},
   "outputs": [
    {
     "data": {
      "text/plain": [
       "2-element Vector{Vector{Float64}}:\n",
       " [-0.004611389942650802, -0.004611389942650802, -0.004611389942650802]\n",
       " [1.0, 1.0, 1.0]"
      ]
     },
     "metadata": {},
     "output_type": "display_data"
    }
   ],
   "source": [
    "res_test_iid = apply_test(test_agreg_grassmann23,sample_uniform,\"iidness\")"
   ]
  },
  {
   "cell_type": "markdown",
   "metadata": {},
   "source": [
    "## 5) Grassmannian G(4,2)"
   ]
  },
  {
   "cell_type": "code",
   "execution_count": 30,
   "metadata": {},
   "outputs": [
    {
     "name": "stdout",
     "output_type": "stream",
     "text": [
      "1"
     ]
    }
   ],
   "source": [
    "test_agreg_grassmann24 = Test_Homogeneity_Aggregated(sample_size, proportion_nearest_neighbours, weights, monte_carlo_size, monte_carlo_size_2,GrassmannData24,vect_alpha);"
   ]
  },
  {
   "cell_type": "code",
   "execution_count": 31,
   "metadata": {},
   "outputs": [
    {
     "data": {
      "text/plain": [
       "GrassmannData24{Matrix{Float64}}(100, [[-0.05195379461705851 -0.044223524750381826; 0.35930901621466965 -0.46174139910878176; 0.18145463406293083 0.8859059642907212; -0.9139321910671615 -0.0031277215100163373], [-0.66982969591261 0.24685127022160558; 0.1949062950050245 -0.8434319738998466; 0.5729709155438453 0.44370762721996826; -0.43016746109147114 -0.17552919227357608], [-0.4879435324340382 0.703737615574257; -0.21241045086750082 -0.5552347674745206; -0.6075127094494999 -0.4378751899778269; -0.5896789104041157 0.0687970887120698], [-0.721973020829138 -0.35379071547300056; 0.5124438232790147 -0.5680787797571196; 0.38813638719286725 0.4709303013487424; 0.255942239802077 -0.5747549746686386], [-0.10583765597562533 0.6601253059545061; -0.9523480816774973 0.04696158581412646; -0.19356266069474257 -0.7376426822648191; 0.21063005077041722 -0.13383745065360222], [-0.4699349487372999 -0.3936952910724273; -0.20591503132298605 -0.43715603775815404; 0.6961661950482706 0.1744371405787434; -0.5021083276570288 0.7896013553849178], [-0.8754929153625048 0.28150409659964676; -0.0008572945729580551 -0.42244819475285666; 0.4671178331321351 0.6702420199451413; 0.12374308128544269 -0.5413581079539916], [-0.44761790848925465 -0.09511550881339415; 0.668953955000249 -0.6884173828356814; -0.5897512110946425 -0.7160288666148521; -0.06582038515257185 0.06585749135132452], [-0.2783433664692945 -0.19159652566598384; 0.8637575478959117 -0.47833517880264953; -0.06216023660852007 -0.1521869841830724; -0.4154322733974271 -0.8434010611315484], [-0.4404222976279395 -0.012453348367521155; 0.2637054956449778 -0.840819729717939; 0.10041014732275683 -0.44615917736047095; 0.852294206030632 0.306282687542925]  …  [-0.3799330329268742 -0.5731466780831238; -0.19301726039817602 -0.6814943690614825; 0.7395987376896688 -0.4543337688805191; -0.5209500310847651 0.025478163093023844], [-0.3843898336132858 0.1600585309026593; 0.6038844780323633 -0.463127773406099; 0.6956917131695357 0.5487122967792185; 0.05984173488099047 -0.6773542260504959], [-0.038363877963965676 0.8265505013569425; -0.26376112850258043 0.16177468836576991; 0.487394078123364 -0.4212878887499601; 0.8315078427584959 0.3363922319307412], [-0.10633060683584294 -0.19418823537369345; -0.6963420526313077 -0.15797260624543585; -0.11175024066614282 0.9676277640382095; -0.7009375375154322 0.032126238200109326], [-0.030661859936897518 0.2822742480723201; -0.371765782193442 -0.7347957107631644; 0.22302061162037537 0.46235286424550986; -0.9006174883532864 0.40819889912055796], [-0.9196503084576975 -0.020828008659200425; 0.38296294122088276 -0.26546438769271075; -0.029841886908438715 -0.4909353899013588; -0.08180560855379503 -0.8295042470443583], [-0.39005992796616273 0.8576295676957035; -0.4639531209454962 -0.40099968602790037; 0.6745790693629331 0.2973122466027741; 0.4213595060484633 -0.12359694348816577], [-0.5820638140373755 0.4889508317596337; -0.3520047660985217 -0.657315317771421; -0.7300230914436602 -0.12356042434611564; -0.06603519509496425 0.5599968559554828], [-0.18428381538061633 -0.30401665620774476; -0.11194529857542608 -0.9373063723210184; -0.956442734813748 0.1527521492804572; -0.19678673872398056 0.07548124300033321], [-0.6517059494267243 0.4056446739792368; -0.11432924337710887 -0.6202629145246843; -0.45927661259185526 0.3318984493720625; 0.5926830288752837 0.5835835284190628]])"
      ]
     },
     "metadata": {},
     "output_type": "display_data"
    }
   ],
   "source": [
    "sample_uniform = GrassmannData24(sample_size,\"uniform\")"
   ]
  },
  {
   "cell_type": "code",
   "execution_count": 32,
   "metadata": {},
   "outputs": [
    {
     "data": {
      "text/plain": [
       "2-element Vector{Vector{Float64}}:\n",
       " [0.004479917659229051, 0.004479917659229051, 0.004479917659229051]\n",
       " [0.7, 0.7, 0.7]"
      ]
     },
     "metadata": {},
     "output_type": "display_data"
    }
   ],
   "source": [
    "res_test_iid = apply_test(test_agreg_grassmann24,sample_uniform,\"iidness\")"
   ]
  },
  {
   "cell_type": "markdown",
   "metadata": {},
   "source": [
    "## 6) Bolza surface"
   ]
  },
  {
   "cell_type": "code",
   "execution_count": 33,
   "metadata": {},
   "outputs": [
    {
     "name": "stdout",
     "output_type": "stream",
     "text": [
      "1"
     ]
    }
   ],
   "source": [
    "test_agreg_bolza = Test_Homogeneity_Aggregated(sample_size, proportion_nearest_neighbours, weights, monte_carlo_size, monte_carlo_size_2,BolzaData,vect_alpha);"
   ]
  },
  {
   "cell_type": "code",
   "execution_count": 34,
   "metadata": {},
   "outputs": [
    {
     "data": {
      "text/plain": [
       "BolzaData{Float64}(100, [-0.5387082226923159 0.26775768348262635 … 0.33498921713553936 -0.46456800693485095; -0.35021347560568833 -0.26709505497898456 … -0.194075525905835 -0.3057401885499583])"
      ]
     },
     "metadata": {},
     "output_type": "display_data"
    }
   ],
   "source": [
    "sample_uniform = BolzaData(sample_size,\"uniform\")"
   ]
  },
  {
   "cell_type": "code",
   "execution_count": 35,
   "metadata": {},
   "outputs": [
    {
     "data": {
      "text/plain": [
       "2-element Vector{Vector{Float64}}:\n",
       " [-0.002441313064442195, -0.002441313064442195, -0.002441313064442195]\n",
       " [0.9, 0.9, 0.9]"
      ]
     },
     "metadata": {},
     "output_type": "display_data"
    }
   ],
   "source": [
    "res_test_hom = apply_test(test_agreg_bolza,sample_uniform,\"homogeneity\")"
   ]
  },
  {
   "cell_type": "code",
   "execution_count": 36,
   "metadata": {},
   "outputs": [
    {
     "data": {
      "text/plain": [
       "2-element Vector{Vector{Float64}}:\n",
       " [-0.003963224200748246, -0.003963224200748246, -0.003963224200748246]\n",
       " [0.9, 0.9, 0.9]"
      ]
     },
     "metadata": {},
     "output_type": "display_data"
    }
   ],
   "source": [
    "res_test_iid = apply_test(test_agreg_bolza,sample_uniform,\"iidness\")"
   ]
  }
 ],
 "metadata": {
  "kernelspec": {
   "display_name": "Julia 1.9.4",
   "language": "julia",
   "name": "julia-1.9"
  },
  "language_info": {
   "file_extension": ".jl",
   "mimetype": "application/julia",
   "name": "julia",
   "version": "1.9.4"
  }
 },
 "nbformat": 4,
 "nbformat_minor": 2
}
