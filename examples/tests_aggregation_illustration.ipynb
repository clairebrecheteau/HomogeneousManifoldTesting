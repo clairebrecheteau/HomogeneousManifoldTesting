{
 "cells": [
  {
   "cell_type": "markdown",
   "metadata": {},
   "source": [
    "# Tests aggregation illustration"
   ]
  },
  {
   "cell_type": "code",
   "execution_count": 1,
   "metadata": {},
   "outputs": [],
   "source": [
    "using HomogeneousManifoldTesting"
   ]
  },
  {
   "cell_type": "code",
   "execution_count": 2,
   "metadata": {},
   "outputs": [
    {
     "data": {
      "text/plain": [
       "1000"
      ]
     },
     "metadata": {},
     "output_type": "display_data"
    }
   ],
   "source": [
    "sample_size = 100\n",
    "proportion_nearest_neighbours = [i/10 for i in 1:10]\n",
    "monte_carlo_size = 1000\n",
    "vect_alpha =  [0.01, 0.05, 0.1];\n",
    "\n",
    "weights = [1/length(proportion_nearest_neighbours) for i in 1:length(proportion_nearest_neighbours)]\n",
    "monte_carlo_size_2 = 1000"
   ]
  },
  {
   "cell_type": "markdown",
   "metadata": {},
   "source": [
    "## 1) Circle"
   ]
  },
  {
   "cell_type": "code",
   "execution_count": 30,
   "metadata": {},
   "outputs": [
    {
     "name": "stdout",
     "output_type": "stream",
     "text": [
      "1"
     ]
    }
   ],
   "source": [
    "test_agreg_circle = Test_Homogeneity_Aggregated(sample_size, proportion_nearest_neighbours, weights, monte_carlo_size, monte_carlo_size_2,CircleData,vect_alpha);"
   ]
  },
  {
   "cell_type": "code",
   "execution_count": 31,
   "metadata": {},
   "outputs": [
    {
     "data": {
      "text/plain": [
       "CircleData{Float64}(100, [3.6546160878073124, 6.263302081964711, 1.9738133306215224, 0.9880301214194404, 5.778212469304095, 5.450166183963755, 5.198627631973053, 6.051834042523322, 1.2424388699984499, 1.9841223454873722  …  2.954113471474062, 0.03507903250271902, 5.550936570880648, 0.150895181781922, 6.089645135092575, 4.476206942189899, 3.0293684397178864, 3.0487438323946394, 3.6034969192562087, 5.000994426477656])"
      ]
     },
     "metadata": {},
     "output_type": "display_data"
    }
   ],
   "source": [
    "sample_uniform = CircleData(sample_size,\"uniform\")"
   ]
  },
  {
   "cell_type": "code",
   "execution_count": 32,
   "metadata": {},
   "outputs": [
    {
     "data": {
      "text/plain": [
       "2-element Vector{Vector{Float64}}:\n",
       " [-0.02951399608020036, -0.02362879314158084, -0.01949392754608885]\n",
       " [0.1, 0.1, 0.1]"
      ]
     },
     "metadata": {},
     "output_type": "display_data"
    }
   ],
   "source": [
    "res_test_hom = apply_test(test_agreg_circle,sample_uniform,\"homogeneity\")"
   ]
  },
  {
   "cell_type": "markdown",
   "metadata": {},
   "source": [
    "Hypothesis $H_0$ is rejected at the level $\\alpha$ when the test statistic is positive."
   ]
  },
  {
   "cell_type": "code",
   "execution_count": 33,
   "metadata": {},
   "outputs": [
    {
     "name": "stdout",
     "output_type": "stream",
     "text": [
      "The test statistic for α = 0.01 is -0.02951399608020036. The parameter h selected is 0.1\n",
      "The test statistic for α = 0.05 is -0.02362879314158084. The parameter h selected is 0.1\n",
      "The test statistic for α = 0.1 is -0.01949392754608885. The parameter h selected is 0.1\n"
     ]
    }
   ],
   "source": [
    "for (idx,α) in enumerate(vect_alpha)\n",
    "    print(\"The test statistic for α = $α is $(res_test_hom[1][idx]). \")\n",
    "    print(\"The parameter h selected is $(res_test_hom[2][idx])\\n\")\n",
    "end"
   ]
  },
  {
   "cell_type": "code",
   "execution_count": 34,
   "metadata": {},
   "outputs": [
    {
     "data": {
      "text/plain": [
       "2-element Vector{Vector{Float64}}:\n",
       " [-0.029413609264755683, -0.017212335004715806, -0.014964677691048341]\n",
       " [0.1, 0.1, 0.1]"
      ]
     },
     "metadata": {},
     "output_type": "display_data"
    }
   ],
   "source": [
    "res_test_iid = apply_test(test_agreg_circle,sample_uniform,\"iidness\")"
   ]
  },
  {
   "cell_type": "markdown",
   "metadata": {},
   "source": [
    "## 2) Sphere"
   ]
  },
  {
   "cell_type": "code",
   "execution_count": 35,
   "metadata": {},
   "outputs": [
    {
     "name": "stdout",
     "output_type": "stream",
     "text": [
      "1"
     ]
    }
   ],
   "source": [
    "test_agreg_sphere = Test_Homogeneity_Aggregated(sample_size, proportion_nearest_neighbours, weights, monte_carlo_size, monte_carlo_size_2,SphereData,vect_alpha);"
   ]
  },
  {
   "cell_type": "code",
   "execution_count": 36,
   "metadata": {},
   "outputs": [
    {
     "data": {
      "text/plain": [
       "SphereData{Float64}(100, [-0.40254961967136815 0.6500690000067961 … 0.9879712942590678 0.7336552167042616; 0.6776698847370434 -0.5251860896077206 … 0.1540925201507287 -0.6670061567996909; -0.6154001389526322 0.5491719826363279 … -0.012969847865710314 -0.12981837232814566])"
      ]
     },
     "metadata": {},
     "output_type": "display_data"
    }
   ],
   "source": [
    "sample_uniform = SphereData(sample_size,\"uniform\")"
   ]
  },
  {
   "cell_type": "code",
   "execution_count": 37,
   "metadata": {},
   "outputs": [
    {
     "data": {
      "text/plain": [
       "2-element Vector{Vector{Float64}}:\n",
       " [-0.04264921935071092, -0.03646053015339225, -0.031956826993158646]\n",
       " [0.1, 0.1, 0.1]"
      ]
     },
     "metadata": {},
     "output_type": "display_data"
    }
   ],
   "source": [
    "res_test_hom = apply_test(test_agreg_sphere,sample_uniform,\"homogeneity\")"
   ]
  },
  {
   "cell_type": "code",
   "execution_count": 38,
   "metadata": {},
   "outputs": [
    {
     "data": {
      "text/plain": [
       "2-element Vector{Vector{Float64}}:\n",
       " [-0.017050398108659583, -0.007554272967745433, -0.0036820559126252983]\n",
       " [0.1, 0.1, 0.1]"
      ]
     },
     "metadata": {},
     "output_type": "display_data"
    }
   ],
   "source": [
    "res_test_iid = apply_test(test_agreg_sphere,sample_uniform,\"iidness\")"
   ]
  },
  {
   "cell_type": "markdown",
   "metadata": {},
   "source": [
    "## 3) Torus"
   ]
  },
  {
   "cell_type": "code",
   "execution_count": 39,
   "metadata": {},
   "outputs": [
    {
     "name": "stdout",
     "output_type": "stream",
     "text": [
      "1"
     ]
    }
   ],
   "source": [
    "test_agreg_torus = Test_Homogeneity_Aggregated(sample_size, proportion_nearest_neighbours, weights, monte_carlo_size, monte_carlo_size_2,TorusData,vect_alpha);"
   ]
  },
  {
   "cell_type": "code",
   "execution_count": 40,
   "metadata": {},
   "outputs": [
    {
     "data": {
      "text/plain": [
       "TorusData{Float64}(100, [0.37147077629015446 0.287477690030265 … 0.5599062359070028 0.28560623460942103; 0.8334872911365838 0.04849064262464342 … 0.6700152031439814 0.48124497139096767])"
      ]
     },
     "metadata": {},
     "output_type": "display_data"
    }
   ],
   "source": [
    "sample_uniform = TorusData(sample_size,\"uniform\")"
   ]
  },
  {
   "cell_type": "code",
   "execution_count": 41,
   "metadata": {},
   "outputs": [
    {
     "data": {
      "text/plain": [
       "2-element Vector{Vector{Float64}}:\n",
       " [-0.006569225539314074, -0.0036554107298923215, -0.0025426480339452405]\n",
       " [0.1, 0.1, 0.1]"
      ]
     },
     "metadata": {},
     "output_type": "display_data"
    }
   ],
   "source": [
    "res_test_hom = apply_test(test_agreg_torus,sample_uniform,\"homogeneity\")"
   ]
  },
  {
   "cell_type": "code",
   "execution_count": 42,
   "metadata": {},
   "outputs": [
    {
     "data": {
      "text/plain": [
       "2-element Vector{Vector{Float64}}:\n",
       " [-0.008503561169721598, -0.006315650628040228, -0.005280763189101327]\n",
       " [0.1, 0.1, 0.1]"
      ]
     },
     "metadata": {},
     "output_type": "display_data"
    }
   ],
   "source": [
    "res_test_iid = apply_test(test_agreg_torus,sample_uniform,\"iidness\")"
   ]
  },
  {
   "cell_type": "markdown",
   "metadata": {},
   "source": [
    "## 4) Grassmannian G(3,2)"
   ]
  },
  {
   "cell_type": "code",
   "execution_count": 3,
   "metadata": {},
   "outputs": [
    {
     "data": {
      "text/plain": [
       "10"
      ]
     },
     "metadata": {},
     "output_type": "display_data"
    }
   ],
   "source": [
    "monte_carlo_size = 10\n",
    "monte_carlo_size2 = 10"
   ]
  },
  {
   "cell_type": "code",
   "execution_count": 4,
   "metadata": {},
   "outputs": [
    {
     "name": "stdout",
     "output_type": "stream",
     "text": [
      "1"
     ]
    }
   ],
   "source": [
    "test_agreg_grassmann23 = Test_Homogeneity_Aggregated(sample_size, proportion_nearest_neighbours, weights, monte_carlo_size, monte_carlo_size_2,GrassmannData23,vect_alpha);"
   ]
  },
  {
   "cell_type": "code",
   "execution_count": 5,
   "metadata": {},
   "outputs": [
    {
     "data": {
      "text/plain": [
       "GrassmannData23{Matrix{Float64}}(100, [[-0.9296410005725604 -0.2735316219101464; -0.23741904216986942 -0.0677071156340403; -0.28177971621390835 0.9594770441796527], [-0.83748804129205 0.07717693173015372; -0.21501255358506166 -0.956662898846447; 0.5023777288989197 -0.2807842929713692], [-0.6220805932699005 0.5983666535120516; -0.7698630329536303 -0.5849102326399545; 0.14257154684019419 -0.5475740750965689], [-0.06363396754869188 -0.5926634546228342; 0.43551876474204443 -0.7403984327350477; -0.8979276829074688 -0.3171122677507332], [-0.9392960043747727 -0.32925085081027666; 0.09761066519244858 0.013270351621345045; 0.32893034856375813 -0.9441492334417029], [-0.35185161366303985 -0.6210486190778455; -0.0932650394400749 -0.7212167964665128; -0.9313979140952356 0.3068304828990793], [-0.23137961691233055 0.5373489471396249; 0.16128501184168192 -0.8008979899134909; -0.9594011766892575 -0.2642319412191999], [-0.917153725653769 -0.08502988145737825; -0.09693145744860669 -0.9000432528786082; 0.386566082418388 -0.4274249199649433], [-0.2616590853238745 -0.8097919488321053; 0.9627359093182386 -0.18044544987067157; -0.06836733120912074 0.5582798932683063], [-0.1336502318751187 0.10777602961296695; 0.5792296649549277 -0.798105322547012; 0.8041334533247138 0.5928003218310487]  …  [-0.3599609318189503 0.9053216058833481; -0.05083870922771823 -0.26030673598297116; -0.9315812112790236 -0.3356086904755112], [-0.9084371609532742 -0.21391343875864727; -0.34557886429605034 -0.09908036833603928; -0.23519603132495026 0.9718148595945862], [-0.398758104389487 0.4011542569307745; 0.7991844378446371 -0.28902858877118054; 0.44977350799113835 0.8692167376548023], [-0.32023180367666315 -0.06753979263516136; -0.3801795666057488 -0.904447955349547; -0.8677067990107352 0.4212033623735962], [-0.42651177772712234 -0.028976457835453995; 0.8194409001327513 -0.4354864887213956; -0.382889428751534 -0.8997287830409895], [-0.5337058360813005 0.4676861500718726; 0.06383710098494434 -0.8084994782033328; -0.8432573184210131 -0.3572089847356708], [-0.5294206681268119 -0.7129446571368575; 0.7963353756377812 -0.2307516021549425; 0.2925127786405133 -0.6621658507979221], [-0.11948554860190197 0.4715638794412944; 0.6094109755139931 -0.6598888741581306; -0.7837993790495026 -0.5849565636597224], [-0.9752389712337493 0.21875528213666806; -0.1730581816849523 -0.6634249324974717; 0.13769464310145266 0.7155511760021304], [-0.5040746911284424 0.13752678941956648; -0.02413385970425571 -0.9890978070092709; 0.8633228032315262 0.052648935045233554]])"
      ]
     },
     "metadata": {},
     "output_type": "display_data"
    }
   ],
   "source": [
    "sample_uniform = GrassmannData23(sample_size,\"uniform\")"
   ]
  },
  {
   "cell_type": "code",
   "execution_count": 6,
   "metadata": {},
   "outputs": [
    {
     "data": {
      "text/plain": [
       "2-element Vector{Vector{Float64}}:\n",
       " [0.0015678963894212791, 0.0015678963894212791, 0.0015678963894212791]\n",
       " [0.1, 0.1, 0.1]"
      ]
     },
     "metadata": {},
     "output_type": "display_data"
    }
   ],
   "source": [
    "res_test_iid = apply_test(test_agreg_grassmann23,sample_uniform,\"iidness\")"
   ]
  },
  {
   "cell_type": "markdown",
   "metadata": {},
   "source": [
    "## 5) Grassmannian G(4,2)"
   ]
  },
  {
   "cell_type": "code",
   "execution_count": 7,
   "metadata": {},
   "outputs": [
    {
     "name": "stdout",
     "output_type": "stream",
     "text": [
      "1"
     ]
    }
   ],
   "source": [
    "test_agreg_grassmann24 = Test_Homogeneity_Aggregated(sample_size, proportion_nearest_neighbours, weights, monte_carlo_size, monte_carlo_size_2,GrassmannData24,vect_alpha);"
   ]
  },
  {
   "cell_type": "code",
   "execution_count": 8,
   "metadata": {},
   "outputs": [
    {
     "data": {
      "text/plain": [
       "GrassmannData24{Matrix{Float64}}(100, [[-0.06027575436239441 -0.4347379637885211; -0.5251975011779171 -0.7296656045038614; 0.403064965414275 -0.41767857847407813; -0.7470428714927313 0.3227005012839273], [-0.3325370842154869 -0.8415310027297556; -0.07701691518348806 -0.22114767290152737; -0.8904062221603521 0.17798859459460886; 0.30110503472245576 -0.459607809343061], [-0.6719138090499073 0.7085746498381104; -0.23217772303864562 -0.4300651446457573; 0.014831195711985871 -0.15227283118364743; 0.7031396545256051 0.5383111756697415], [-0.2841721396652479 -0.4226073586842517; 0.42007858374984897 0.0923428813544549; -0.5545386258412058 -0.5569752271354063; -0.6597477479786826 0.7089812472883463], [-0.431788840464699 -0.6987325923297725; 0.38422606170889145 0.155007151470683; -0.7865114797367779 0.2826784192264907; 0.21755096643336116 -0.6386223130400883], [-0.7870029023870655 0.505335770396171; -0.1358398881214984 -0.6941337208024221; -0.6017732637142095 -0.5031217205648485; -0.006549466254786559 -0.09840056452561645], [-0.30834751436120733 0.5814856900051986; 0.12504418891028868 -0.6941956353769485; -0.7394733379658835 -0.024703374035955197; -0.5852050441038829 -0.4235050831501464], [-0.36054935017466594 -0.24213587594810762; -0.04800349933580608 -0.15877406216542878; -0.8210181554342524 -0.35976737517880386; -0.44003297443200967 0.8869771420500558], [-0.07643418557807569 -0.06459237035850324; 0.4277637694168756 0.015373535935619631; -0.8997458338609955 0.05754118887964872; 0.0404154339215136 0.9961327680919964], [-0.8653133505563069 0.27580124220875435; -0.4085346226686607 -0.8378801252947248; -0.15183763016857135 -0.07542729455986678; -0.2475431305748268 0.46497450862126105]  …  [-0.1807678059003892 -0.6805684199342202; -0.44433983098839575 -0.4061009631777792; 0.8511729809354704 -0.21355486303839918; -0.2130485190574878 0.571229335702369], [-0.5699768145128714 -0.7790312784954679; 0.7671637296117345 -0.4784484896226868; 0.2917664259817637 -0.2995643026888174; 0.03819156393500123 0.2728709190405767], [-0.3339982463539133 -0.9328064512685181; 0.6504685976080797 -0.1719200126404814; 0.2732406670555244 -0.22795578490965118; -0.6250402489642896 0.219890413278423], [-0.4495670639871825 -0.20603800785985332; -0.05602702448321757 -0.8245198804212788; 0.11392611366999049 -0.5192265415600494; 0.8841783010963082 -0.09010607441683952], [-0.031201118300923758 0.8831885579850919; -0.5736456066564241 -0.295356499944355; -0.4029191576718876 0.3642735546331342; -0.7124699015127105 -0.006876509272521079], [-0.4537093314116618 -0.7181654221301321; 0.5949525604554686 -0.6775578410257441; 0.6423294870309804 0.1397159886583547; -0.16610877005138033 0.07505492012120173], [-0.5079114342643365 -0.16494637414229568; -0.4648136478780639 -0.3909331367648068; -0.696147496329562 0.11915495389796037; 0.2033541517744704 -0.8976447366292044], [-0.039340157525955544 0.5093675010914692; -0.11748440423266424 -0.40775693258802614; 0.19714488875555114 -0.7477744795674013; -0.9725140922400511 -0.12293234100893952], [-0.6786494896150281 0.2994499142088857; 0.24325680923701745 -0.7135668615553399; 0.5570732439625073 0.24383897508323008; -0.41222614650962613 -0.5845465227000441], [-0.4655215511463746 0.2733391922179692; -0.8436640938823737 -0.4079658872962564; -0.03443940959490197 -0.2103988067665186; -0.26520654060309523 0.8453294404617833]])"
      ]
     },
     "metadata": {},
     "output_type": "display_data"
    }
   ],
   "source": [
    "sample_uniform = GrassmannData24(sample_size,\"uniform\")"
   ]
  },
  {
   "cell_type": "code",
   "execution_count": 9,
   "metadata": {},
   "outputs": [
    {
     "data": {
      "text/plain": [
       "2-element Vector{Vector{Float64}}:\n",
       " [0.0033517103079712222, 0.0033517103079712222, 0.0033517103079712222]\n",
       " [0.1, 0.1, 0.1]"
      ]
     },
     "metadata": {},
     "output_type": "display_data"
    }
   ],
   "source": [
    "res_test_iid = apply_test(test_agreg_grassmann24,sample_uniform,\"iidness\")"
   ]
  },
  {
   "cell_type": "markdown",
   "metadata": {},
   "source": [
    "## 6) Bolza surface"
   ]
  },
  {
   "cell_type": "code",
   "execution_count": 50,
   "metadata": {},
   "outputs": [
    {
     "name": "stdout",
     "output_type": "stream",
     "text": [
      "1"
     ]
    }
   ],
   "source": [
    "test_agreg_bolza = Test_Homogeneity_Aggregated(sample_size, proportion_nearest_neighbours, weights, monte_carlo_size, monte_carlo_size_2,BolzaData,vect_alpha);"
   ]
  },
  {
   "cell_type": "code",
   "execution_count": 51,
   "metadata": {},
   "outputs": [
    {
     "data": {
      "text/plain": [
       "BolzaData{Float64}(100, [0.3130690428161545 0.5608956724146297 … 0.46444101322377557 0.27504491316305285; -0.7478562298199646 -0.03271331846595336 … -0.048265478175328926 0.643900044997036])"
      ]
     },
     "metadata": {},
     "output_type": "display_data"
    }
   ],
   "source": [
    "sample_uniform = BolzaData(sample_size,\"uniform\")"
   ]
  },
  {
   "cell_type": "code",
   "execution_count": 52,
   "metadata": {},
   "outputs": [
    {
     "data": {
      "text/plain": [
       "2-element Vector{Vector{Float64}}:\n",
       " [-0.01774887934256883, -0.01774887934256883, -0.01774887934256883]\n",
       " [0.4, 0.4, 0.4]"
      ]
     },
     "metadata": {},
     "output_type": "display_data"
    }
   ],
   "source": [
    "res_test_hom = apply_test(test_agreg_bolza,sample_uniform,\"homogeneity\")"
   ]
  },
  {
   "cell_type": "code",
   "execution_count": 53,
   "metadata": {},
   "outputs": [
    {
     "data": {
      "text/plain": [
       "2-element Vector{Vector{Float64}}:\n",
       " [-0.01779451492749859, -0.01779451492749859, -0.01779451492749859]\n",
       " [0.7, 0.7, 0.7]"
      ]
     },
     "metadata": {},
     "output_type": "display_data"
    }
   ],
   "source": [
    "res_test_iid = apply_test(test_agreg_bolza,sample_uniform,\"iidness\")"
   ]
  }
 ],
 "metadata": {
  "kernelspec": {
   "display_name": "Julia 1.9.4",
   "language": "julia",
   "name": "julia-1.9"
  },
  "language_info": {
   "file_extension": ".jl",
   "mimetype": "application/julia",
   "name": "julia",
   "version": "1.9.4"
  }
 },
 "nbformat": 4,
 "nbformat_minor": 2
}
